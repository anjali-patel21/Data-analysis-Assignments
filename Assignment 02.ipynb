{
 "cells": [
  {
   "cell_type": "markdown",
   "metadata": {},
   "source": [
    "\n",
    "\n",
    "# Assignment 02: Evaluate the Summer Olympics, London 2012 dataset\n",
    "\n",
    "\n",
    "\n",
    "* * *"
   ]
  },
  {
   "cell_type": "markdown",
   "metadata": {},
   "source": [
    "#### 1: View and add the dataset"
   ]
  },
  {
   "cell_type": "code",
   "execution_count": 1,
   "metadata": {},
   "outputs": [],
   "source": [
    "#Import the necessary library\n",
    "import numpy as np\n",
    "import pandas as pd"
   ]
  },
  {
   "cell_type": "code",
   "execution_count": 4,
   "metadata": {},
   "outputs": [],
   "source": [
    "#Manually add the Summer Olympics, London 2012 dataset as arrays\n",
    "country = np.array(['Great Britain', 'China', 'Russia', 'United States', 'Korea', 'Japan', 'Germany'])\n",
    "country_code = np.array(['GBR','CHN','RUS','US','KOR','JPN','GER'])\n",
    "gold_medal = np.array([29, 38, 24, 46, 13, 7, 11])\n",
    "silver_medal = np.array([17, 28, 25, 28, 8, 14, 11])\n",
    "bronze_medal = np.array([19, 22, 32, 29, 7, 17, 14])"
   ]
  },
  {
   "cell_type": "markdown",
   "metadata": {},
   "source": [
    "#### Find the country with maximum gold medals"
   ]
  },
  {
   "cell_type": "code",
   "execution_count": 7,
   "metadata": {},
   "outputs": [
    {
     "name": "stdout",
     "output_type": "stream",
     "text": [
      "46\n"
     ]
    }
   ],
   "source": [
    "#Use the argmax() method to find the highest number of gold medals\n",
    "max_gold = gold_medal.argmax()\n",
    "print(gold_medal[max_gold])\n"
   ]
  },
  {
   "cell_type": "code",
   "execution_count": 10,
   "metadata": {},
   "outputs": [],
   "source": [
    "#Print the name of the country\n",
    "print('country with max gold medals: ', country[max_gold])"
   ]
  },
  {
   "cell_type": "markdown",
   "metadata": {},
   "source": [
    "#### Find the countries with more than 20 gold medals"
   ]
  },
  {
   "cell_type": "code",
   "execution_count": 8,
   "metadata": {},
   "outputs": [
    {
     "name": "stdout",
     "output_type": "stream",
     "text": [
      "['GBR' 'CHN' 'RUS' 'US']\n"
     ]
    }
   ],
   "source": [
    "#Use Boolean indexing technique to find the required output\n",
    "print(country_code[gold_medal>20])"
   ]
  },
  {
   "cell_type": "markdown",
   "metadata": {},
   "source": [
    "#### Evaluate the dataset and print the name of each country with its gold medals and total number of medals"
   ]
  },
  {
   "cell_type": "code",
   "execution_count": 14,
   "metadata": {},
   "outputs": [
    {
     "name": "stdout",
     "output_type": "stream",
     "text": [
      "Country: Great Britain won 29 gold medals with total 65 medals\n",
      "Country: China won 38 gold medals with total 88 medals\n",
      "Country: Russia won 24 gold medals with total 81 medals\n",
      "Country: United States won 46 gold medals with total 103 medals\n",
      "Country: Korea won 13 gold medals with total 28 medals\n",
      "Country: Japan won 7 gold medals with total 38 medals\n",
      "Country: Germany won 11 gold medals with total 36 medals\n"
     ]
    }
   ],
   "source": [
    "#Use a for loop to create the required output\n",
    "for i in range(len(country)):\n",
    "    total_medals = gold_medal[i] + silver_medal[i] + bronze_medal[i]\n",
    "    print('Country: {} won {} gold medals with total {} medals'.format(country[i], gold_medal[i], total_medals))"
   ]
  },
  {
   "cell_type": "code",
   "execution_count": null,
   "metadata": {},
   "outputs": [],
   "source": []
  }
 ],
 "metadata": {
  "kernelspec": {
   "display_name": "Python 3",
   "language": "python",
   "name": "python3"
  },
  "language_info": {
   "codemirror_mode": {
    "name": "ipython",
    "version": 3
   },
   "file_extension": ".py",
   "mimetype": "text/x-python",
   "name": "python",
   "nbconvert_exporter": "python",
   "pygments_lexer": "ipython3",
   "version": "3.8.8"
  }
 },
 "nbformat": 4,
 "nbformat_minor": 1
}
