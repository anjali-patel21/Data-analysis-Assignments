{
 "cells": [
  {
   "cell_type": "markdown",
   "metadata": {},
   "source": [
    "## Problem Statement: Evaluate the dataset containing the GDPs of different countries\n",
    "\n",
    "#### 1: View and add the dataset"
   ]
  },
  {
   "cell_type": "code",
   "execution_count": 11,
   "metadata": {},
   "outputs": [],
   "source": [
    "#Import required library\n",
    "import numpy as np\n"
   ]
  },
  {
   "cell_type": "code",
   "execution_count": 12,
   "metadata": {},
   "outputs": [],
   "source": [
    "#Manually add the dataset\n",
    "countries = np.array(['Algeria','Angola','Argentina','Australia','Austria','Bahamas','Bangladesh',\n",
    "                      'Belarus','Belgium','Bhutan','Brazil','Bulgaria','Cambodia','Cameroon','Chile',\n",
    "                      'China','Colombia','Cyprus','Denmark','El Salvador','Estonia','Ethiopia','Fiji',\n",
    "                      'Finland','France','Georgia','Ghana','Grenada','Guinea','Haiti','Honduras','Hungary',\n",
    "                      'India','Indonesia','Ireland','Italy','Japan','Kenya', 'South Korea','Liberia',\n",
    "                      'Malaysia','Mexico', 'Morocco','Nepal','New Zealand','Norway','Pakistan', 'Peru',\n",
    "                      'Qatar','Russia','Singapore','South Africa','Spain','Sweden','Switzerland','Thailand',\n",
    "                      'United Arab Emirates','United Kingdom','United States','Uruguay','Venezuela','Vietnam',\n",
    "                      'Zimbabwe'])\n",
    "gdp_per_country = np.array([2255.225482,629.9553062,11601.63022,25306.82494,27266.40335,19466.99052,\n",
    "                588.3691778,2890.345675,24733.62696,1445.760002,4803.398244,2618.876037,590.4521124,\n",
    "                665.7982328,7122.938458,2639.54156,3362.4656,15378.16704,30860.12808,2579.115607,\n",
    "                6525.541272,229.6769525,2242.689259,27570.4852,23016.84778,1334.646773,402.6953275,\n",
    "                6047.200797,394.1156638,385.5793827,1414.072488,5745.981529,837.7464011,1206.991065,\n",
    "                27715.52837,18937.24998,39578.07441,478.2194906,16684.21278,279.2204061,5345.213415,\n",
    "                6288.25324,1908.304416,274.8728621,14646.42094,40034.85063,672.1547506,3359.517402,\n",
    "                36152.66676,3054.727742,33529.83052,3825.093781,15428.32098,33630.24604,39170.41371,\n",
    "                2699.123242,21058.43643,28272.40661,37691.02733,9581.05659,5671.912202,757.4009286,347.7456605])"
   ]
  },
  {
   "cell_type": "markdown",
   "metadata": {
    "collapsed": true
   },
   "source": [
    "#### 2: Find and print the name of the country with the highest GDP"
   ]
  },
  {
   "cell_type": "code",
   "execution_count": 13,
   "metadata": {},
   "outputs": [],
   "source": [
    "#Use the argmax() method to find the highest GDP\n",
    "max_gdp_per_country = gdp_per_country.argmax()"
   ]
  },
  {
   "cell_type": "code",
   "execution_count": 14,
   "metadata": {},
   "outputs": [
    {
     "name": "stdout",
     "output_type": "stream",
     "text": [
      "Norway\n"
     ]
    }
   ],
   "source": [
    "#Print the name of the country\n",
    "country_with_maxGdp = countries[max_gdp_per_country]\n",
    "print(country_with_maxGdp)"
   ]
  },
  {
   "cell_type": "markdown",
   "metadata": {},
   "source": [
    "#### 3: Find and print the name of the country with the lowest GDP"
   ]
  },
  {
   "cell_type": "code",
   "execution_count": 15,
   "metadata": {},
   "outputs": [],
   "source": [
    "#Use the argmin() method to find the lowest GDP\n",
    "min_gdp_per_country = gdp_per_country.argmin()"
   ]
  },
  {
   "cell_type": "code",
   "execution_count": 16,
   "metadata": {},
   "outputs": [
    {
     "name": "stdout",
     "output_type": "stream",
     "text": [
      "Ethiopia\n"
     ]
    }
   ],
   "source": [
    "#Print the name of the country\n",
    "country_with_minGdp = countries[min_gdp_per_country]\n",
    "print(country_with_minGdp)"
   ]
  },
  {
   "cell_type": "markdown",
   "metadata": {},
   "source": [
    "#### 4: Print out text ('evaluating country') and input value ('country name') iteratively"
   ]
  },
  {
   "cell_type": "code",
   "execution_count": 21,
   "metadata": {},
   "outputs": [
    {
     "name": "stdout",
     "output_type": "stream",
     "text": [
      "evaluating country Algeria\n",
      "evaluating country Angola\n",
      "evaluating country Argentina\n",
      "evaluating country Australia\n",
      "evaluating country Austria\n",
      "evaluating country Bahamas\n",
      "evaluating country Bangladesh\n",
      "evaluating country Belarus\n",
      "evaluating country Belgium\n",
      "evaluating country Bhutan\n",
      "evaluating country Brazil\n",
      "evaluating country Bulgaria\n",
      "evaluating country Cambodia\n",
      "evaluating country Cameroon\n",
      "evaluating country Chile\n",
      "evaluating country China\n",
      "evaluating country Colombia\n",
      "evaluating country Cyprus\n",
      "evaluating country Denmark\n",
      "evaluating country El Salvador\n",
      "evaluating country Estonia\n",
      "evaluating country Ethiopia\n",
      "evaluating country Fiji\n",
      "evaluating country Finland\n",
      "evaluating country France\n",
      "evaluating country Georgia\n",
      "evaluating country Ghana\n",
      "evaluating country Grenada\n",
      "evaluating country Guinea\n",
      "evaluating country Haiti\n",
      "evaluating country Honduras\n",
      "evaluating country Hungary\n",
      "evaluating country India\n",
      "evaluating country Indonesia\n",
      "evaluating country Ireland\n",
      "evaluating country Italy\n",
      "evaluating country Japan\n",
      "evaluating country Kenya\n",
      "evaluating country South Korea\n",
      "evaluating country Liberia\n",
      "evaluating country Malaysia\n",
      "evaluating country Mexico\n",
      "evaluating country Morocco\n",
      "evaluating country Nepal\n",
      "evaluating country New Zealand\n",
      "evaluating country Norway\n",
      "evaluating country Pakistan\n",
      "evaluating country Peru\n",
      "evaluating country Qatar\n",
      "evaluating country Russia\n",
      "evaluating country Singapore\n",
      "evaluating country South Africa\n",
      "evaluating country Spain\n",
      "evaluating country Sweden\n",
      "evaluating country Switzerland\n",
      "evaluating country Thailand\n",
      "evaluating country United Arab Emirates\n",
      "evaluating country United Kingdom\n",
      "evaluating country United States\n",
      "evaluating country Uruguay\n",
      "evaluating country Venezuela\n",
      "evaluating country Vietnam\n",
      "evaluating country Zimbabwe\n"
     ]
    }
   ],
   "source": [
    "#Use a for loop to print the required output\n",
    "for i in countries:\n",
    "    print('evaluating country ' + format(i))"
   ]
  },
  {
   "cell_type": "markdown",
   "metadata": {},
   "source": [
    "#### 5: Print out the entire list of the countries with their GDPs"
   ]
  },
  {
   "cell_type": "code",
   "execution_count": 26,
   "metadata": {},
   "outputs": [
    {
     "name": "stdout",
     "output_type": "stream",
     "text": [
      "Algeria   has per capita GDP:   2255.225482 \n",
      "Angola   has per capita GDP:   629.9553062 \n",
      "Argentina   has per capita GDP:   11601.63022 \n",
      "Australia   has per capita GDP:   25306.82494 \n",
      "Austria   has per capita GDP:   27266.40335 \n",
      "Bahamas   has per capita GDP:   19466.99052 \n",
      "Bangladesh   has per capita GDP:   588.3691778 \n",
      "Belarus   has per capita GDP:   2890.345675 \n",
      "Belgium   has per capita GDP:   24733.62696 \n",
      "Bhutan   has per capita GDP:   1445.760002 \n",
      "Brazil   has per capita GDP:   4803.398244 \n",
      "Bulgaria   has per capita GDP:   2618.876037 \n",
      "Cambodia   has per capita GDP:   590.4521124 \n",
      "Cameroon   has per capita GDP:   665.7982328 \n",
      "Chile   has per capita GDP:   7122.938458 \n",
      "China   has per capita GDP:   2639.54156 \n",
      "Colombia   has per capita GDP:   3362.4656 \n",
      "Cyprus   has per capita GDP:   15378.16704 \n",
      "Denmark   has per capita GDP:   30860.12808 \n",
      "El Salvador   has per capita GDP:   2579.115607 \n",
      "Estonia   has per capita GDP:   6525.541272 \n",
      "Ethiopia   has per capita GDP:   229.6769525 \n",
      "Fiji   has per capita GDP:   2242.689259 \n",
      "Finland   has per capita GDP:   27570.4852 \n",
      "France   has per capita GDP:   23016.84778 \n",
      "Georgia   has per capita GDP:   1334.646773 \n",
      "Ghana   has per capita GDP:   402.6953275 \n",
      "Grenada   has per capita GDP:   6047.200797 \n",
      "Guinea   has per capita GDP:   394.1156638 \n",
      "Haiti   has per capita GDP:   385.5793827 \n",
      "Honduras   has per capita GDP:   1414.072488 \n",
      "Hungary   has per capita GDP:   5745.981529 \n",
      "India   has per capita GDP:   837.7464011 \n",
      "Indonesia   has per capita GDP:   1206.991065 \n",
      "Ireland   has per capita GDP:   27715.52837 \n",
      "Italy   has per capita GDP:   18937.24998 \n",
      "Japan   has per capita GDP:   39578.07441 \n",
      "Kenya   has per capita GDP:   478.2194906 \n",
      "South Korea   has per capita GDP:   16684.21278 \n",
      "Liberia   has per capita GDP:   279.2204061 \n",
      "Malaysia   has per capita GDP:   5345.213415 \n",
      "Mexico   has per capita GDP:   6288.25324 \n",
      "Morocco   has per capita GDP:   1908.304416 \n",
      "Nepal   has per capita GDP:   274.8728621 \n",
      "New Zealand   has per capita GDP:   14646.42094 \n",
      "Norway   has per capita GDP:   40034.85063 \n",
      "Pakistan   has per capita GDP:   672.1547506 \n",
      "Peru   has per capita GDP:   3359.517402 \n",
      "Qatar   has per capita GDP:   36152.66676 \n",
      "Russia   has per capita GDP:   3054.727742 \n",
      "Singapore   has per capita GDP:   33529.83052 \n",
      "South Africa   has per capita GDP:   3825.093781 \n",
      "Spain   has per capita GDP:   15428.32098 \n",
      "Sweden   has per capita GDP:   33630.24604 \n",
      "Switzerland   has per capita GDP:   39170.41371 \n",
      "Thailand   has per capita GDP:   2699.123242 \n",
      "United Arab Emirates   has per capita GDP:   21058.43643 \n",
      "United Kingdom   has per capita GDP:   28272.40661 \n",
      "United States   has per capita GDP:   37691.02733 \n",
      "Uruguay   has per capita GDP:   9581.05659 \n",
      "Venezuela   has per capita GDP:   5671.912202 \n",
      "Vietnam   has per capita GDP:   757.4009286 \n",
      "Zimbabwe   has per capita GDP:   347.7456605 \n"
     ]
    }
   ],
   "source": [
    "#Use a for loop to print the required list\n",
    "for i in range(len(countries)):\n",
    "    print('{}   has per capita GDP:   {} '. format(countries[i],gdp_per_country[i]))"
   ]
  },
  {
   "cell_type": "markdown",
   "metadata": {},
   "source": [
    "#### 6: Print the following:\n",
    "1. Highest GPD value\n",
    "2. Lowest GDP value\n",
    "3. Mean GDP value\n",
    "4. Standardized GDP value\n",
    "5. Sum of all the GDPs"
   ]
  },
  {
   "cell_type": "code",
   "execution_count": 28,
   "metadata": {},
   "outputs": [
    {
     "name": "stdout",
     "output_type": "stream",
     "text": [
      "40034.85063\n"
     ]
    }
   ],
   "source": [
    "#highest GDP value\n",
    "max_gdp = gdp_per_country.max()\n",
    "print(max_gdp)\n"
   ]
  },
  {
   "cell_type": "code",
   "execution_count": 29,
   "metadata": {},
   "outputs": [
    {
     "name": "stdout",
     "output_type": "stream",
     "text": [
      "229.6769525\n"
     ]
    }
   ],
   "source": [
    "#lowest GDP value\n",
    "min_gdp = gdp_per_country.min()\n",
    "print(min_gdp)"
   ]
  },
  {
   "cell_type": "code",
   "execution_count": 30,
   "metadata": {},
   "outputs": [
    {
     "name": "stdout",
     "output_type": "stream",
     "text": [
      "11289.409271639683\n"
     ]
    }
   ],
   "source": [
    "#Mean GDP value\n",
    "mean_gdp = gdp_per_country.mean()\n",
    "print(mean_gdp)"
   ]
  },
  {
   "cell_type": "code",
   "execution_count": 31,
   "metadata": {},
   "outputs": [
    {
     "name": "stdout",
     "output_type": "stream",
     "text": [
      "12743.828910617945\n"
     ]
    }
   ],
   "source": [
    "#Standardized GDP value\n",
    "standardized_gdp = gdp_per_country.std()\n",
    "print(standardized_gdp)"
   ]
  },
  {
   "cell_type": "code",
   "execution_count": 32,
   "metadata": {},
   "outputs": [
    {
     "name": "stdout",
     "output_type": "stream",
     "text": [
      "711232.7841133\n"
     ]
    }
   ],
   "source": [
    "#sum of all GDPs\n",
    "print(gdp_per_country.sum())"
   ]
  },
  {
   "cell_type": "code",
   "execution_count": null,
   "metadata": {},
   "outputs": [],
   "source": []
  }
 ],
 "metadata": {
  "kernelspec": {
   "display_name": "Python 3",
   "language": "python",
   "name": "python3"
  },
  "language_info": {
   "codemirror_mode": {
    "name": "ipython",
    "version": 3
   },
   "file_extension": ".py",
   "mimetype": "text/x-python",
   "name": "python",
   "nbconvert_exporter": "python",
   "pygments_lexer": "ipython3",
   "version": "3.8.8"
  }
 },
 "nbformat": 4,
 "nbformat_minor": 1
}
